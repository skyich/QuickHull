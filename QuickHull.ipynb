{
 "cells": [
  {
   "cell_type": "code",
   "execution_count": 16,
   "metadata": {},
   "outputs": [],
   "source": [
    "import numpy as np\n",
    "import math\n",
    "\n",
    "#https://habr.com/ru/post/148325/\n",
    "#истина, если точка C лежит справа от вектора AB\n",
    "def isLeftSide(a, b, c):\n",
    "    return (c[0] - a[0]) * (b[1] - a[1]) - (c[1] - a[1]) * (b[0] - a[0]) <= 0\n",
    "\n",
    "def area(a, b, c):\n",
    "    def distance(p1, p2):\n",
    "        return math.hypot(p1[0]-p2[0], p1[1]-p2[1])\n",
    "\n",
    "    side_a = distance(a, b)\n",
    "    side_b = distance(b, c)\n",
    "    side_c = distance(c, a)\n",
    "    s = 0.5 * ( side_a + side_b + side_c)\n",
    "    return math.sqrt(s * (s - side_a) * (s - side_b) * (s - side_c))\n",
    "\n",
    "def nextPoint(points, l, r):\n",
    "    res = []\n",
    "    points.sort(key = lambda x : area(l, r, x), reverse=True)\n",
    "    pi = points.pop(0)\n",
    "    #print(pi)\n",
    "    res.append(pi)\n",
    "    left = []\n",
    "    right = []\n",
    "    for p in points:\n",
    "        if isLeftSide(l, pi, p):\n",
    "            left.append(p)\n",
    "        elif isLeftSide(pi, r, p):\n",
    "            right.append(p)\n",
    "    \n",
    "    if (left):\n",
    "        res += nextPoint(left, l, pi)\n",
    "    if (right):    \n",
    "        res += nextPoint(right, pi, r)\n",
    "    return res\n",
    "\n",
    "def quickHull(points):\n",
    "    points.sort(key = lambda x : x[0])\n",
    "    left = points.pop(0)\n",
    "    right = points.pop(-1)\n",
    "    up = []\n",
    "    down = []\n",
    "    res = [left]\n",
    "    #print(res)\n",
    "    for p in points:\n",
    "        if isLeftSide(left, right, p):\n",
    "            up.append(p)\n",
    "        else:\n",
    "            down.append(p)\n",
    "            \n",
    "    #print(up)\n",
    "   # print(down)\n",
    "            \n",
    "    if (up):\n",
    "        res += nextPoint(up, left, right)\n",
    "    res.sort(key = lambda x : x[0])\n",
    "    res.append(right)\n",
    "    if(down):\n",
    "        t = nextPoint(down, right, left)\n",
    "        t.sort(key = lambda x : x[0], reverse=True)\n",
    "        res += t\n",
    "    return res"
   ]
  },
  {
   "cell_type": "code",
   "execution_count": 17,
   "metadata": {
    "scrolled": true
   },
   "outputs": [
    {
     "data": {
      "text/plain": [
       "<matplotlib.collections.PathCollection at 0x212b05d4518>"
      ]
     },
     "execution_count": 17,
     "metadata": {},
     "output_type": "execute_result"
    },
    {
     "data": {
      "image/png": "[encoded data removed]",
      "text/plain": [
       "<Figure size 432x288 with 1 Axes>"
      ]
     },
     "metadata": {
      "needs_background": "light"
     },
     "output_type": "display_data"
    }
   ],
   "source": [
    "import random \n",
    "import matplotlib.pyplot as plt\n",
    "\n",
    "N = 15\n",
    "x = random.sample(range(10000), N)\n",
    "y = random.sample(range(10000), N)\n",
    "plt.scatter(x, y)"
   ]
  },
  {
   "cell_type": "code",
   "execution_count": 18,
   "metadata": {},
   "outputs": [
    {
     "name": "stdout",
     "output_type": "stream",
     "text": [
      "[(201, 464), (342, 5039), (1437, 9320), (2128, 9739), (9069, 9401), (9208, 8557), (9565, 2257)]\n"
     ]
    },
    {
     "data": {
      "text/plain": [
       "[<matplotlib.lines.Line2D at 0x212b0636470>]"
      ]
     },
     "execution_count": 18,
     "metadata": {},
     "output_type": "execute_result"
    },
    {
     "data": {
      "image/png": "[encoded data removed]",
      "text/plain": [
       "<Figure size 432x288 with 1 Axes>"
      ]
     },
     "metadata": {
      "needs_background": "light"
     },
     "output_type": "display_data"
    }
   ],
   "source": [
    "points = list(zip(x, y))\n",
    "res = quickHull(points)\n",
    "print(res)\n",
    "x_res = [row[0] for row in res]\n",
    "y_res = [row[1] for row in res]\n",
    "#plt.plot(x_res, y_res)\n",
    "plt.scatter(x, y, marker='.')\n",
    "for i in range(0, len(res)):\n",
    "    plt.plot(x_res[i:i+2], y_res[i:i+2], 'ro-')\n",
    "plt.plot([x_res[-1], x_res[0]], [y_res[-1], y_res[0]], 'ro-')"
   ]
  },
  {
   "cell_type": "code",
   "execution_count": 19,
   "metadata": {},
   "outputs": [
    {
     "name": "stdout",
     "output_type": "stream",
     "text": [
      "[(0, 1), (0, 2), (0.5, 2.5), (2, 3), (2.5, 2.5), (3, 2), (3, 1)]\n"
     ]
    }
   ],
   "source": [
    "x = [0, 0, 0.1, 0.5, 2, 2.5, 3, 3, 2]\n",
    "y = [1, 2, 1.5, 2.5, 3, 2.5, 2, 1, 1]\n",
    "points = list(zip(x, y))\n",
    "res = quickHull(points)\n",
    "print(res)"
   ]
  },
  {
   "cell_type": "code",
   "execution_count": null,
   "metadata": {},
   "outputs": [],
   "source": []
  }
 ],
 "metadata": {
  "kernelspec": {
   "display_name": "Python 3",
   "language": "python",
   "name": "python3"
  },
  "language_info": {
   "codemirror_mode": {
    "name": "ipython",
    "version": 3
   },
   "file_extension": ".py",
   "mimetype": "text/x-python",
   "name": "python",
   "nbconvert_exporter": "python",
   "pygments_lexer": "ipython3",
   "version": "3.7.3"
  }
 },
 "nbformat": 4,
 "nbformat_minor": 2
}
